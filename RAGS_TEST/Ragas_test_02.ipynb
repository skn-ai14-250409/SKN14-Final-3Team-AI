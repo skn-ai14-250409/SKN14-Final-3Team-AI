{
  "cells": [
    {
      "cell_type": "markdown",
      "metadata": {},
      "source": [
        "# RAGAS 테스트 02 - LangGraph RAG 평가\n",
        "\n",
        "이 노트북은 LangGraph 기반 RAG 시스템의 성능을 RAGAS로 평가합니다.\n"
      ]
    },
    {
      "cell_type": "code",
      "execution_count": null,
      "metadata": {},
      "outputs": [],
      "source": [
        "import requests\n",
        "import json\n",
        "import pandas as pd\n",
        "from ragas import evaluate\n",
        "from ragas.metrics import (\n",
        "    faithfulness,\n",
        "    answer_relevancy,\n",
        "    context_precision,\n",
        "    context_recall\n",
        ")\n",
        "from datasets import Dataset\n",
        "\n",
        "print(\"RAGAS 테스트 02 - LangGraph RAG 평가 시작\")\n"
      ]
    },
    {
      "cell_type": "code",
      "execution_count": null,
      "metadata": {},
      "outputs": [],
      "source": [
        "# LangGraph API 테스트\n",
        "def test_langgraph_api(question, session_id=None):\n",
        "    \"\"\"LangGraph API를 호출하여 응답을 받는 함수\"\"\"\n",
        "    url = \"http://localhost:8001/api/v1/langgraph/multiturn\"\n",
        "    payload = {\n",
        "        \"prompt\": question,\n",
        "        \"session_id\": session_id\n",
        "    }\n",
        "    \n",
        "    try:\n",
        "        response = requests.post(url, json=payload)\n",
        "        if response.status_code == 200:\n",
        "            data = response.json()\n",
        "            return {\n",
        "                \"answer\": data.get(\"response\", \"\"),\n",
        "                \"sources\": data.get(\"sources\", []),\n",
        "                \"category\": data.get(\"category\", \"\"),\n",
        "                \"product_name\": data.get(\"product_name\", \"\")\n",
        "            }\n",
        "        else:\n",
        "            return {\"error\": f\"API 호출 실패: {response.status_code}\"}\n",
        "    except Exception as e:\n",
        "        return {\"error\": f\"API 호출 중 오류: {str(e)}\"}\n",
        "\n",
        "# 테스트 질문들\n",
        "test_questions = [\n",
        "    \"KB 동반성장협약 상생대출에 대해 알려주세요\",\n",
        "    \"KB 스마트론 대출 조건은 무엇인가요?\",\n",
        "    \"KB 닥터론 신청 방법을 알려주세요\",\n",
        "    \"KB 햇살론은 어떤 상품인가요?\",\n",
        "    \"KB 전세대출 금리는 어떻게 되나요?\"\n",
        "]\n",
        "\n",
        "print(f\"테스트 질문 {len(test_questions)}개 준비 완료\")\n"
      ]
    },
    {
      "cell_type": "code",
      "execution_count": null,
      "metadata": {},
      "outputs": [],
      "source": [
        "# LangGraph API로 응답 생성\n",
        "results = []\n",
        "for i, question in enumerate(test_questions):\n",
        "    print(f\"질문 {i+1}/{len(test_questions)} 처리 중...\")\n",
        "    result = test_langgraph_api(question)\n",
        "    results.append({\n",
        "        \"question\": question,\n",
        "        \"answer\": result.get(\"answer\", \"\"),\n",
        "        \"sources\": result.get(\"sources\", []),\n",
        "        \"category\": result.get(\"category\", \"\"),\n",
        "        \"product_name\": result.get(\"product_name\", \"\")\n",
        "    })\n",
        "\n",
        "print(\"API 테스트 완료\")\n"
      ]
    },
    {
      "cell_type": "code",
      "execution_count": null,
      "metadata": {},
      "outputs": [],
      "source": [
        "# RAGAS 평가를 위한 데이터 준비\n",
        "ragas_data = {\n",
        "    \"question\": [r[\"question\"] for r in results],\n",
        "    \"answer\": [r[\"answer\"] for r in results],\n",
        "    \"contexts\": [[source.get(\"text\", \"\") for source in r[\"sources\"]] for r in results],\n",
        "    \"ground_truths\": [\n",
        "        [\"KB 동반성장협약 상생대출은 중소기업 지원 대출\"],\n",
        "        [\"KB 스마트론은 온라인 간편 대출\"],\n",
        "        [\"KB 닥터론은 의료진 전용 대출\"],\n",
        "        [\"KB 햇살론은 희망복지 대출\"],\n",
        "        [\"KB 전세대출은 전세보증금 대출\"]\n",
        "    ]\n",
        "}\n",
        "\n",
        "dataset = Dataset.from_dict(ragas_data)\n",
        "print(f\"RAGAS 평가 데이터셋 생성: {len(dataset)}개 샘플\")\n"
      ]
    },
    {
      "cell_type": "code",
      "execution_count": null,
      "metadata": {},
      "outputs": [],
      "source": [
        "# RAGAS 평가 실행\n",
        "print(\"RAGAS 평가 시작...\")\n",
        "result = evaluate(\n",
        "    dataset,\n",
        "    metrics=[\n",
        "        faithfulness,\n",
        "        answer_relevancy,\n",
        "        context_precision,\n",
        "        context_recall\n",
        "    ]\n",
        ")\n",
        "\n",
        "print(\"\\\\n=== LangGraph RAG 평가 결과 ===\")\n",
        "print(result)\n"
      ]
    }
  ],
  "metadata": {
    "language_info": {
      "name": "python"
    }
  },
  "nbformat": 4,
  "nbformat_minor": 2
}
