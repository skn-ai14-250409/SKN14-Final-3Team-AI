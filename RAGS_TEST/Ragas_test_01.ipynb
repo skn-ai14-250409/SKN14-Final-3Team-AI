{
  "cells": [
    {
      "cell_type": "markdown",
      "metadata": {},
      "source": [
        "# RAGAS 테스트 01 - 기본 RAG 평가\n",
        "\n",
        "이 노트북은 RAGAS를 사용한 기본적인 RAG 시스템 평가를 수행합니다.\n"
      ]
    },
    {
      "cell_type": "code",
      "execution_count": null,
      "metadata": {},
      "outputs": [],
      "source": [
        "import pandas as pd\n",
        "import numpy as np\n",
        "from ragas import evaluate\n",
        "from ragas.metrics import (\n",
        "    faithfulness,\n",
        "    answer_relevancy,\n",
        "    context_precision,\n",
        "    context_recall\n",
        ")\n",
        "from datasets import Dataset\n",
        "\n",
        "print(\"RAGAS 테스트 01 시작\")\n"
      ]
    },
    {
      "cell_type": "code",
      "execution_count": null,
      "metadata": {},
      "outputs": [],
      "source": [
        "# 테스트 데이터 준비\n",
        "test_data = {\n",
        "    \"question\": [\n",
        "        \"KB 동반성장협약 상생대출이 무엇인가요?\",\n",
        "        \"KB 스마트론 대출 조건은 무엇인가요?\",\n",
        "        \"KB 닥터론 신청 방법을 알려주세요\"\n",
        "    ],\n",
        "    \"answer\": [\n",
        "        \"KB 동반성장협약 상생대출은 중소기업과의 상생을 위한 특별 대출 상품입니다.\",\n",
        "        \"KB 스마트론은 온라인 신청이 가능한 간편 대출 상품입니다.\",\n",
        "        \"KB 닥터론은 의료진을 위한 전용 대출 상품으로 온라인 신청이 가능합니다.\"\n",
        "    ],\n",
        "    \"contexts\": [\n",
        "        [\"동반성장협약 관련 문서 내용\"],\n",
        "        [\"스마트론 관련 문서 내용\"],\n",
        "        [\"닥터론 관련 문서 내용\"]\n",
        "    ],\n",
        "    \"ground_truths\": [\n",
        "        [\"동반성장협약 상생대출은 중소기업 지원을 위한 대출\"],\n",
        "        [\"스마트론은 온라인 간편 대출 상품\"],\n",
        "        [\"닥터론은 의료진 전용 대출 상품\"]\n",
        "    ]\n",
        "}\n",
        "\n",
        "dataset = Dataset.from_dict(test_data)\n",
        "print(f\"테스트 데이터셋 생성 완료: {len(dataset)}개 샘플\")\n"
      ]
    },
    {
      "cell_type": "code",
      "execution_count": null,
      "metadata": {},
      "outputs": [],
      "source": [
        "# RAGAS 평가 실행\n",
        "result = evaluate(\n",
        "    dataset,\n",
        "    metrics=[\n",
        "        faithfulness,\n",
        "        answer_relevancy,\n",
        "        context_precision,\n",
        "        context_recall\n",
        "    ]\n",
        ")\n",
        "\n",
        "print(\"평가 결과:\")\n",
        "print(result)\n"
      ]
    }
  ],
  "metadata": {
    "language_info": {
      "name": "python"
    }
  },
  "nbformat": 4,
  "nbformat_minor": 2
}
